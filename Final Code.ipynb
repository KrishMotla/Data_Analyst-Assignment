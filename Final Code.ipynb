{
 "cells": [
  {
   "cell_type": "code",
   "execution_count": 1,
   "id": "ff88393b",
   "metadata": {},
   "outputs": [],
   "source": [
    "# Importing Basic Libraries:\n",
    "import pandas as pd\n",
    "import numpy as np\n",
    "import warnings\n",
    "warnings.filterwarnings('ignore')"
   ]
  },
  {
   "cell_type": "markdown",
   "id": "cebe45ea",
   "metadata": {},
   "source": [
    "### X Order Report File:"
   ]
  },
  {
   "cell_type": "code",
   "execution_count": 2,
   "id": "b45ea75e",
   "metadata": {},
   "outputs": [
    {
     "data": {
      "text/html": [
       "<div>\n",
       "<style scoped>\n",
       "    .dataframe tbody tr th:only-of-type {\n",
       "        vertical-align: middle;\n",
       "    }\n",
       "\n",
       "    .dataframe tbody tr th {\n",
       "        vertical-align: top;\n",
       "    }\n",
       "\n",
       "    .dataframe thead th {\n",
       "        text-align: right;\n",
       "    }\n",
       "</style>\n",
       "<table border=\"1\" class=\"dataframe\">\n",
       "  <thead>\n",
       "    <tr style=\"text-align: right;\">\n",
       "      <th></th>\n",
       "      <th>ExternOrderNo</th>\n",
       "      <th>SKU</th>\n",
       "      <th>Order Qty</th>\n",
       "    </tr>\n",
       "  </thead>\n",
       "  <tbody>\n",
       "    <tr>\n",
       "      <th>0</th>\n",
       "      <td>2001827036</td>\n",
       "      <td>8904223818706</td>\n",
       "      <td>1.0</td>\n",
       "    </tr>\n",
       "    <tr>\n",
       "      <th>1</th>\n",
       "      <td>2001827036</td>\n",
       "      <td>8904223819093</td>\n",
       "      <td>1.0</td>\n",
       "    </tr>\n",
       "    <tr>\n",
       "      <th>2</th>\n",
       "      <td>2001827036</td>\n",
       "      <td>8904223819109</td>\n",
       "      <td>1.0</td>\n",
       "    </tr>\n",
       "    <tr>\n",
       "      <th>3</th>\n",
       "      <td>2001827036</td>\n",
       "      <td>8904223818430</td>\n",
       "      <td>1.0</td>\n",
       "    </tr>\n",
       "    <tr>\n",
       "      <th>4</th>\n",
       "      <td>2001827036</td>\n",
       "      <td>8904223819277</td>\n",
       "      <td>1.0</td>\n",
       "    </tr>\n",
       "  </tbody>\n",
       "</table>\n",
       "</div>"
      ],
      "text/plain": [
       "   ExternOrderNo            SKU  Order Qty\n",
       "0     2001827036  8904223818706        1.0\n",
       "1     2001827036  8904223819093        1.0\n",
       "2     2001827036  8904223819109        1.0\n",
       "3     2001827036  8904223818430        1.0\n",
       "4     2001827036  8904223819277        1.0"
      ]
     },
     "execution_count": 2,
     "metadata": {},
     "output_type": "execute_result"
    }
   ],
   "source": [
    "# Importing the dataset\n",
    "X_order = pd.read_excel(r'D:\\Data\\Company X - Order Report.xlsx')\n",
    "X_order.head()"
   ]
  },
  {
   "cell_type": "markdown",
   "id": "cf903613",
   "metadata": {},
   "source": [
    "### SKU Master File:"
   ]
  },
  {
   "cell_type": "code",
   "execution_count": 3,
   "id": "6c0d9194",
   "metadata": {},
   "outputs": [
    {
     "data": {
      "text/html": [
       "<div>\n",
       "<style scoped>\n",
       "    .dataframe tbody tr th:only-of-type {\n",
       "        vertical-align: middle;\n",
       "    }\n",
       "\n",
       "    .dataframe tbody tr th {\n",
       "        vertical-align: top;\n",
       "    }\n",
       "\n",
       "    .dataframe thead th {\n",
       "        text-align: right;\n",
       "    }\n",
       "</style>\n",
       "<table border=\"1\" class=\"dataframe\">\n",
       "  <thead>\n",
       "    <tr style=\"text-align: right;\">\n",
       "      <th></th>\n",
       "      <th>Weight(kg)_x</th>\n",
       "      <th>weight_slab(X)</th>\n",
       "    </tr>\n",
       "    <tr>\n",
       "      <th>ExternOrderNo</th>\n",
       "      <th></th>\n",
       "      <th></th>\n",
       "    </tr>\n",
       "  </thead>\n",
       "  <tbody>\n",
       "    <tr>\n",
       "      <th>2001806210</th>\n",
       "      <td>0.22</td>\n",
       "      <td>0.5</td>\n",
       "    </tr>\n",
       "    <tr>\n",
       "      <th>2001806226</th>\n",
       "      <td>0.24</td>\n",
       "      <td>0.5</td>\n",
       "    </tr>\n",
       "    <tr>\n",
       "      <th>2001806229</th>\n",
       "      <td>0.50</td>\n",
       "      <td>0.5</td>\n",
       "    </tr>\n",
       "    <tr>\n",
       "      <th>2001806232</th>\n",
       "      <td>0.38</td>\n",
       "      <td>0.5</td>\n",
       "    </tr>\n",
       "    <tr>\n",
       "      <th>2001806233</th>\n",
       "      <td>0.24</td>\n",
       "      <td>0.5</td>\n",
       "    </tr>\n",
       "  </tbody>\n",
       "</table>\n",
       "</div>"
      ],
      "text/plain": [
       "               Weight(kg)_x  weight_slab(X)\n",
       "ExternOrderNo                              \n",
       "2001806210             0.22             0.5\n",
       "2001806226             0.24             0.5\n",
       "2001806229             0.50             0.5\n",
       "2001806232             0.38             0.5\n",
       "2001806233             0.24             0.5"
      ]
     },
     "execution_count": 3,
     "metadata": {},
     "output_type": "execute_result"
    }
   ],
   "source": [
    "# Loading the weight list:\n",
    "X_wgt = pd.read_excel(r\"D:\\Data\\Company X - SKU Master.xlsx\")\n",
    "\n",
    "# Checking for the Duplicate Rows:\n",
    "X_wgt['SKU'].duplicated().sum()\n",
    "\n",
    "# Dropping the duplicate rows from the table:\n",
    "X_wgt.drop_duplicates(inplace = True)\n",
    "\n",
    "# Joining SKU column with X_order Report\n",
    "lst = []\n",
    "for i in X_order['SKU']:\n",
    "    weight = X_wgt['Weight (g)'][X_wgt['SKU'] == i]\n",
    "    lst.append(int(weight))\n",
    "\n",
    "X_order['Weight(g)'] = lst\n",
    "\n",
    "Z = X_order.groupby('ExternOrderNo').sum()\n",
    "\n",
    "# Changing the weight from grams to kg\n",
    "Z['Weight(g)'] = round(Z['Weight(g)']/1000,2)\n",
    "\n",
    "# Renamming columns\n",
    "Z.rename(columns = {'Weight(g)': 'Weight(kg)'} , inplace = True)\n",
    "\n",
    "# Rounding off the values to slab values and appending it in Z dataframe:\n",
    "lst = []\n",
    "for i in Z['Weight(kg)']:\n",
    "    num = (round(i - int(i),2))\n",
    "    if(num < .5 and num != 0):\n",
    "        diff = (.5 - num)\n",
    "        s = i + diff\n",
    "        lst.append(s)\n",
    "    elif(num > .5):\n",
    "        diff = 1 - num\n",
    "        s = i + diff\n",
    "        lst.append(s)\n",
    "    elif(num == .5 or num == 0):\n",
    "        lst.append(i)\n",
    "        \n",
    "Z['weight_slab(X)'] =lst\n",
    "\n",
    "Z.rename(columns = {'Weight(kg)': 'Weight(kg)_x'} , inplace = True)\n",
    "\n",
    "Z.drop(\"Order Qty\" , axis = 1 , inplace = True)\n",
    "\n",
    "Z.head()"
   ]
  },
  {
   "cell_type": "code",
   "execution_count": null,
   "id": "9319f553",
   "metadata": {},
   "outputs": [],
   "source": []
  },
  {
   "cell_type": "markdown",
   "id": "14a4b945",
   "metadata": {},
   "source": [
    "### Working with the Pincode File:"
   ]
  },
  {
   "cell_type": "code",
   "execution_count": 4,
   "id": "02dbee88",
   "metadata": {},
   "outputs": [
    {
     "data": {
      "text/html": [
       "<div>\n",
       "<style scoped>\n",
       "    .dataframe tbody tr th:only-of-type {\n",
       "        vertical-align: middle;\n",
       "    }\n",
       "\n",
       "    .dataframe tbody tr th {\n",
       "        vertical-align: top;\n",
       "    }\n",
       "\n",
       "    .dataframe thead th {\n",
       "        text-align: right;\n",
       "    }\n",
       "</style>\n",
       "<table border=\"1\" class=\"dataframe\">\n",
       "  <thead>\n",
       "    <tr style=\"text-align: right;\">\n",
       "      <th></th>\n",
       "      <th>Zone</th>\n",
       "    </tr>\n",
       "    <tr>\n",
       "      <th>Pincode_X</th>\n",
       "      <th></th>\n",
       "    </tr>\n",
       "  </thead>\n",
       "  <tbody>\n",
       "    <tr>\n",
       "      <th>507101</th>\n",
       "      <td>d</td>\n",
       "    </tr>\n",
       "    <tr>\n",
       "      <th>486886</th>\n",
       "      <td>d</td>\n",
       "    </tr>\n",
       "    <tr>\n",
       "      <th>532484</th>\n",
       "      <td>d</td>\n",
       "    </tr>\n",
       "    <tr>\n",
       "      <th>143001</th>\n",
       "      <td>b</td>\n",
       "    </tr>\n",
       "    <tr>\n",
       "      <th>515591</th>\n",
       "      <td>d</td>\n",
       "    </tr>\n",
       "  </tbody>\n",
       "</table>\n",
       "</div>"
      ],
      "text/plain": [
       "          Zone\n",
       "Pincode_X     \n",
       "507101       d\n",
       "486886       d\n",
       "532484       d\n",
       "143001       b\n",
       "515591       d"
      ]
     },
     "execution_count": 4,
     "metadata": {},
     "output_type": "execute_result"
    }
   ],
   "source": [
    "# Importing pincode file\n",
    "pin_file = pd.read_excel(r\"D:\\Data\\Company X - Pincode Zones.xlsx\")\n",
    "\n",
    "# Dropping the Warehouse Pincode \n",
    "pin_file.drop(\"Warehouse Pincode\" , axis = 1 , inplace = True)\n",
    "\n",
    "# Renaming the columns\n",
    "pin_file.rename(columns ={\"Customer Pincode\" : \"Pincode_X\"}, inplace = True)\n",
    "\n",
    "# Setting the index to pincode\n",
    "pin_file.set_index(\"Pincode_X\" , inplace = True)\n",
    "\n",
    "pin_file.head()"
   ]
  },
  {
   "cell_type": "code",
   "execution_count": null,
   "id": "699131ad",
   "metadata": {},
   "outputs": [],
   "source": []
  },
  {
   "cell_type": "markdown",
   "id": "166c9d08",
   "metadata": {},
   "source": [
    "### Working with the Courier Company Report:"
   ]
  },
  {
   "cell_type": "code",
   "execution_count": 5,
   "id": "b3e843db",
   "metadata": {},
   "outputs": [
    {
     "data": {
      "text/html": [
       "<div>\n",
       "<style scoped>\n",
       "    .dataframe tbody tr th:only-of-type {\n",
       "        vertical-align: middle;\n",
       "    }\n",
       "\n",
       "    .dataframe tbody tr th {\n",
       "        vertical-align: top;\n",
       "    }\n",
       "\n",
       "    .dataframe thead th {\n",
       "        text-align: right;\n",
       "    }\n",
       "</style>\n",
       "<table border=\"1\" class=\"dataframe\">\n",
       "  <thead>\n",
       "    <tr style=\"text-align: right;\">\n",
       "      <th></th>\n",
       "      <th>AWB Code</th>\n",
       "      <th>Chareged Weight(C)</th>\n",
       "      <th>Weight_Slab_C</th>\n",
       "      <th>Customer Pincode</th>\n",
       "      <th>Zone(C)</th>\n",
       "      <th>Type of Shipment</th>\n",
       "      <th>Bill_Amount(C)</th>\n",
       "    </tr>\n",
       "    <tr>\n",
       "      <th>Order ID</th>\n",
       "      <th></th>\n",
       "      <th></th>\n",
       "      <th></th>\n",
       "      <th></th>\n",
       "      <th></th>\n",
       "      <th></th>\n",
       "      <th></th>\n",
       "    </tr>\n",
       "  </thead>\n",
       "  <tbody>\n",
       "    <tr>\n",
       "      <th>2001806232</th>\n",
       "      <td>1091117222124</td>\n",
       "      <td>1.30</td>\n",
       "      <td>1.5</td>\n",
       "      <td>507101</td>\n",
       "      <td>d</td>\n",
       "      <td>Forward charges</td>\n",
       "      <td>135.0</td>\n",
       "    </tr>\n",
       "    <tr>\n",
       "      <th>2001806273</th>\n",
       "      <td>1091117222194</td>\n",
       "      <td>1.00</td>\n",
       "      <td>1.0</td>\n",
       "      <td>486886</td>\n",
       "      <td>d</td>\n",
       "      <td>Forward charges</td>\n",
       "      <td>90.2</td>\n",
       "    </tr>\n",
       "    <tr>\n",
       "      <th>2001806408</th>\n",
       "      <td>1091117222931</td>\n",
       "      <td>2.50</td>\n",
       "      <td>2.5</td>\n",
       "      <td>532484</td>\n",
       "      <td>d</td>\n",
       "      <td>Forward charges</td>\n",
       "      <td>224.6</td>\n",
       "    </tr>\n",
       "    <tr>\n",
       "      <th>2001806458</th>\n",
       "      <td>1091117223244</td>\n",
       "      <td>1.00</td>\n",
       "      <td>1.0</td>\n",
       "      <td>143001</td>\n",
       "      <td>b</td>\n",
       "      <td>Forward charges</td>\n",
       "      <td>61.3</td>\n",
       "    </tr>\n",
       "    <tr>\n",
       "      <th>2001807012</th>\n",
       "      <td>1091117229345</td>\n",
       "      <td>0.15</td>\n",
       "      <td>0.5</td>\n",
       "      <td>515591</td>\n",
       "      <td>d</td>\n",
       "      <td>Forward charges</td>\n",
       "      <td>45.4</td>\n",
       "    </tr>\n",
       "  </tbody>\n",
       "</table>\n",
       "</div>"
      ],
      "text/plain": [
       "                 AWB Code  Chareged Weight(C)  Weight_Slab_C  \\\n",
       "Order ID                                                       \n",
       "2001806232  1091117222124                1.30            1.5   \n",
       "2001806273  1091117222194                1.00            1.0   \n",
       "2001806408  1091117222931                2.50            2.5   \n",
       "2001806458  1091117223244                1.00            1.0   \n",
       "2001807012  1091117229345                0.15            0.5   \n",
       "\n",
       "            Customer Pincode Zone(C) Type of Shipment  Bill_Amount(C)  \n",
       "Order ID                                                               \n",
       "2001806232            507101       d  Forward charges           135.0  \n",
       "2001806273            486886       d  Forward charges            90.2  \n",
       "2001806408            532484       d  Forward charges           224.6  \n",
       "2001806458            143001       b  Forward charges            61.3  \n",
       "2001807012            515591       d  Forward charges            45.4  "
      ]
     },
     "execution_count": 5,
     "metadata": {},
     "output_type": "execute_result"
    }
   ],
   "source": [
    "# Importing the Courier Invoice Data\n",
    "df = pd.read_excel(r'D:\\Data\\Courier Company - Invoice.xlsx')\n",
    "\n",
    "# Dropping the Warehouse Pincode Column\n",
    "df.drop('Warehouse Pincode', axis = 1 , inplace = True)\n",
    "\n",
    "# Rounding off the weights to weight slab\n",
    "lst = []\n",
    "for i in df['Charged Weight']:\n",
    "    num = (round(i - int(i),2))\n",
    "    if(num < .5 and num != 0):\n",
    "        diff = (.5 - num)\n",
    "        s = i + diff\n",
    "        lst.append(s)\n",
    "    elif(num > .5):\n",
    "        diff = 1 - num\n",
    "        s = i + diff\n",
    "        lst.append(s)\n",
    "    elif(num == .5 or num == 0):\n",
    "        lst.append(i)\n",
    "        \n",
    "# Inserting the weight slab column to the lst\n",
    "df.insert(3 ,\"Weight_Slab_C\", lst )\n",
    "\n",
    "# Renaming the columns \n",
    "df.rename(columns = {'Zone' : 'Zone(C)',\n",
    "                     'Charged Weight': \"Chareged Weight(C)\", \n",
    "                     \"Billing Amount (Rs.)\" : 'Bill_Amount(C)'} , inplace = True)\n",
    "\n",
    "# Changing the index to the \"Order ID\"\n",
    "df.set_index('Order ID',  inplace = True)\n",
    "\n",
    "df.head()"
   ]
  },
  {
   "cell_type": "code",
   "execution_count": null,
   "id": "4b348f92",
   "metadata": {},
   "outputs": [],
   "source": []
  },
  {
   "cell_type": "markdown",
   "id": "8310cbb9",
   "metadata": {},
   "source": [
    "### Concatinating Courier Invoice and X Company's Report:"
   ]
  },
  {
   "cell_type": "code",
   "execution_count": 6,
   "id": "dc4337eb",
   "metadata": {},
   "outputs": [],
   "source": [
    "# Concatinating Courier Invoice and X Company's Report:\n",
    "df1  = pd.concat([df, Z], axis=1)\n",
    "\n",
    "# Reseting the index then again assiging index to Customer Pincode:\n",
    "df1.reset_index(inplace = True)\n",
    "df1.set_index(\"Customer Pincode\",inplace = True)\n",
    "\n",
    "# Concatinating the Pincode file with the df1\n",
    "final_df = pd.concat([df1,pin_file],axis = 1)\n",
    "final_df.reset_index(inplace = True)\n",
    "\n",
    "# Calculating the Charges as per X company\n",
    "lst = []\n",
    "for index,value in enumerate(final_df['Type of Shipment']):\n",
    "    if (value == 'Forward charges'):\n",
    "        if (final_df['Zone'][index] == 'a'):\n",
    "            num = final_df['weight_slab(X)'][index]/.5\n",
    "            tot_charge = 29.5 + (num -1)*23.6\n",
    "            tot_charge = round(tot_charge,2)\n",
    "            lst.append(tot_charge)\n",
    "        \n",
    "        elif (final_df['Zone'][index] == 'b'):\n",
    "            num = final_df['weight_slab(X)'][index]/.5\n",
    "            tot_charge = 33 + (num -1)*28.3\n",
    "            tot_charge = round(tot_charge,2)\n",
    "            lst.append(tot_charge)            \n",
    "        \n",
    "        elif (final_df['Zone'][index] == 'c'):\n",
    "            num = final_df['weight_slab(X)'][index]/.5\n",
    "            tot_charge = 40.1 + (num -1)*38.9\n",
    "            tot_charge = round(tot_charge,2)\n",
    "            lst.append(tot_charge)            \n",
    "        \n",
    "        elif (final_df['Zone'][index] == 'd'):\n",
    "            num = final_df['weight_slab(X)'][index]/.5\n",
    "            tot_charge = 45.4 + (num -1)*44.8\n",
    "            tot_charge = round(tot_charge,2)\n",
    "            lst.append(tot_charge)  \n",
    "            \n",
    "        elif (final_df['Zone'][index] == 'e'):\n",
    "            num = final_df['weight_slab(X)'][index]/.5\n",
    "            tot_charge = 58.6 + (num -1)*55.5\n",
    "            tot_charge = round(tot_charge,2)\n",
    "            lst.append(tot_charge)\n",
    "            \n",
    "    elif (value == 'Forward and RTO charges'):\n",
    "        if (final_df['Zone'][index] == 'a'):\n",
    "            num = final_df['weight_slab(X)'][index]/.5\n",
    "            tot_charge = 29.5 + 13.6 + 2*(num -1)*23.6 \n",
    "            tot_charge = round(tot_charge,2)\n",
    "            lst.append(tot_charge)\n",
    "        \n",
    "        elif (final_df['Zone'][index] == 'b'):\n",
    "            num = final_df['weight_slab(X)'][index]/.5\n",
    "            tot_charge = 33 + 20.5 + 2*(num -1)*28.3 \n",
    "            tot_charge = round(tot_charge,2)\n",
    "            lst.append(tot_charge)            \n",
    "        \n",
    "        elif (final_df['Zone'][index] == 'c'):\n",
    "            num = final_df['weight_slab(X)'][index]/.5\n",
    "            tot_charge = 40.1 + 31.9 + 2*(num -1)*38.9 \n",
    "            tot_charge = round(tot_charge,2)\n",
    "            lst.append(tot_charge)            \n",
    "        \n",
    "        elif (final_df['Zone'][index] == 'd'):\n",
    "            num = final_df['weight_slab(X)'][index]/.5\n",
    "            tot_charge = 45.4 + 41.3 + 2*(num -1)*44.8 \n",
    "            tot_charge = round(tot_charge,2)\n",
    "            lst.append(tot_charge)  \n",
    "            \n",
    "        elif (final_df['Zone'][index] == 'e'):\n",
    "            num = final_df['weight_slab(X)'][index]/.5\n",
    "            tot_charge = 58.6 + 50.7 + 2*(num -1)*55.5\n",
    "            tot_charge = round(tot_charge,2)\n",
    "            lst.append(tot_charge)                          "
   ]
  },
  {
   "cell_type": "code",
   "execution_count": null,
   "id": "211deefb",
   "metadata": {},
   "outputs": [],
   "source": []
  },
  {
   "cell_type": "markdown",
   "id": "c5665032",
   "metadata": {},
   "source": [
    "### Making the final Table:"
   ]
  },
  {
   "cell_type": "code",
   "execution_count": 7,
   "id": "f03167db",
   "metadata": {},
   "outputs": [
    {
     "data": {
      "text/html": [
       "<div>\n",
       "<style scoped>\n",
       "    .dataframe tbody tr th:only-of-type {\n",
       "        vertical-align: middle;\n",
       "    }\n",
       "\n",
       "    .dataframe tbody tr th {\n",
       "        vertical-align: top;\n",
       "    }\n",
       "\n",
       "    .dataframe thead th {\n",
       "        text-align: right;\n",
       "    }\n",
       "</style>\n",
       "<table border=\"1\" class=\"dataframe\">\n",
       "  <thead>\n",
       "    <tr style=\"text-align: right;\">\n",
       "      <th></th>\n",
       "      <th>Order ID</th>\n",
       "      <th>AWB Number</th>\n",
       "      <th>Total weight as per X (KG)</th>\n",
       "      <th>Weight slab as per X (KG)</th>\n",
       "      <th>Total weight as per Courier Company (KG)</th>\n",
       "      <th>Weight slab charged by Courier Company (KG)</th>\n",
       "      <th>Delivery Zone as per X</th>\n",
       "      <th>Delivery Zone charged by Courier Company</th>\n",
       "      <th>Expected Charge as per X (Rs.)</th>\n",
       "      <th>Charges Billed by Courier Company (Rs.)</th>\n",
       "      <th>Difference Between Expected Charges and Billed Charges (Rs.)</th>\n",
       "    </tr>\n",
       "  </thead>\n",
       "  <tbody>\n",
       "    <tr>\n",
       "      <th>0</th>\n",
       "      <td>2001806232</td>\n",
       "      <td>1091117222124</td>\n",
       "      <td>0.38</td>\n",
       "      <td>0.5</td>\n",
       "      <td>1.30</td>\n",
       "      <td>1.5</td>\n",
       "      <td>D</td>\n",
       "      <td>D</td>\n",
       "      <td>45.4</td>\n",
       "      <td>135.0</td>\n",
       "      <td>-89.6</td>\n",
       "    </tr>\n",
       "    <tr>\n",
       "      <th>1</th>\n",
       "      <td>2001806273</td>\n",
       "      <td>1091117222194</td>\n",
       "      <td>0.62</td>\n",
       "      <td>1.0</td>\n",
       "      <td>1.00</td>\n",
       "      <td>1.0</td>\n",
       "      <td>D</td>\n",
       "      <td>D</td>\n",
       "      <td>90.2</td>\n",
       "      <td>90.2</td>\n",
       "      <td>0.0</td>\n",
       "    </tr>\n",
       "    <tr>\n",
       "      <th>2</th>\n",
       "      <td>2001806408</td>\n",
       "      <td>1091117222931</td>\n",
       "      <td>0.93</td>\n",
       "      <td>1.0</td>\n",
       "      <td>2.50</td>\n",
       "      <td>2.5</td>\n",
       "      <td>D</td>\n",
       "      <td>D</td>\n",
       "      <td>90.2</td>\n",
       "      <td>224.6</td>\n",
       "      <td>-134.4</td>\n",
       "    </tr>\n",
       "    <tr>\n",
       "      <th>3</th>\n",
       "      <td>2001806458</td>\n",
       "      <td>1091117223244</td>\n",
       "      <td>0.70</td>\n",
       "      <td>1.0</td>\n",
       "      <td>1.00</td>\n",
       "      <td>1.0</td>\n",
       "      <td>B</td>\n",
       "      <td>B</td>\n",
       "      <td>61.3</td>\n",
       "      <td>61.3</td>\n",
       "      <td>0.0</td>\n",
       "    </tr>\n",
       "    <tr>\n",
       "      <th>4</th>\n",
       "      <td>2001807012</td>\n",
       "      <td>1091117229345</td>\n",
       "      <td>0.24</td>\n",
       "      <td>0.5</td>\n",
       "      <td>0.15</td>\n",
       "      <td>0.5</td>\n",
       "      <td>D</td>\n",
       "      <td>D</td>\n",
       "      <td>45.4</td>\n",
       "      <td>45.4</td>\n",
       "      <td>0.0</td>\n",
       "    </tr>\n",
       "  </tbody>\n",
       "</table>\n",
       "</div>"
      ],
      "text/plain": [
       "     Order ID     AWB Number  Total weight as per X (KG)  \\\n",
       "0  2001806232  1091117222124                        0.38   \n",
       "1  2001806273  1091117222194                        0.62   \n",
       "2  2001806408  1091117222931                        0.93   \n",
       "3  2001806458  1091117223244                        0.70   \n",
       "4  2001807012  1091117229345                        0.24   \n",
       "\n",
       "   Weight slab as per X (KG)  Total weight as per Courier Company (KG)  \\\n",
       "0                        0.5                                      1.30   \n",
       "1                        1.0                                      1.00   \n",
       "2                        1.0                                      2.50   \n",
       "3                        1.0                                      1.00   \n",
       "4                        0.5                                      0.15   \n",
       "\n",
       "   Weight slab charged by Courier Company (KG) Delivery Zone as per X  \\\n",
       "0                                          1.5                      D   \n",
       "1                                          1.0                      D   \n",
       "2                                          2.5                      D   \n",
       "3                                          1.0                      B   \n",
       "4                                          0.5                      D   \n",
       "\n",
       "  Delivery Zone charged by Courier Company  Expected Charge as per X (Rs.)  \\\n",
       "0                                        D                            45.4   \n",
       "1                                        D                            90.2   \n",
       "2                                        D                            90.2   \n",
       "3                                        B                            61.3   \n",
       "4                                        D                            45.4   \n",
       "\n",
       "   Charges Billed by Courier Company (Rs.)  \\\n",
       "0                                    135.0   \n",
       "1                                     90.2   \n",
       "2                                    224.6   \n",
       "3                                     61.3   \n",
       "4                                     45.4   \n",
       "\n",
       "   Difference Between Expected Charges and Billed Charges (Rs.)  \n",
       "0                                              -89.6             \n",
       "1                                                0.0             \n",
       "2                                             -134.4             \n",
       "3                                                0.0             \n",
       "4                                                0.0             "
      ]
     },
     "execution_count": 7,
     "metadata": {},
     "output_type": "execute_result"
    }
   ],
   "source": [
    "Results = pd.DataFrame()\n",
    "\n",
    "# Making the Table as Expected:\n",
    "Results['Order ID'] = final_df['index']\n",
    "Results['AWB Number'] = final_df['AWB Code']\n",
    "Results['Total weight as per X (KG)'] = final_df['Weight(kg)_x']\n",
    "Results['Weight slab as per X (KG)'] = final_df['weight_slab(X)']\n",
    "Results['Total weight as per Courier Company (KG)'] = final_df['Chareged Weight(C)']\n",
    "Results['Weight slab charged by Courier Company (KG)'] = final_df['Weight_Slab_C']\n",
    "Results['Delivery Zone as per X'] = final_df['Zone']\n",
    "Results['Delivery Zone charged by Courier Company'] = final_df['Zone(C)']\n",
    "Results['Expected Charge as per X (Rs.)'] = lst\n",
    "Results['Charges Billed by Courier Company (Rs.)'] = final_df['Bill_Amount(C)']\n",
    "\n",
    "# Capitalising the Letters of the Zone:\n",
    "Results['Delivery Zone as per X'] = Results['Delivery Zone as per X'].str.upper()\n",
    "Results['Delivery Zone charged by Courier Company'] = Results['Delivery Zone charged by Courier Company'].str.upper()\n",
    "\n",
    "# Calculating the difference\n",
    "Results['Difference Between Expected Charges and Billed Charges (Rs.)'] = Results['Expected Charge as per X (Rs.)'] - Results['Charges Billed by Courier Company (Rs.)']\n",
    "\n",
    "# Displaying the results\n",
    "Results.head()"
   ]
  },
  {
   "cell_type": "code",
   "execution_count": 8,
   "id": "60e357cc",
   "metadata": {},
   "outputs": [],
   "source": [
    "Results.to_excel(\"Assignment_final_table.xlsx\")"
   ]
  },
  {
   "cell_type": "code",
   "execution_count": null,
   "id": "eb114ed1",
   "metadata": {},
   "outputs": [],
   "source": []
  },
  {
   "cell_type": "markdown",
   "id": "3aee66ee",
   "metadata": {},
   "source": [
    "#### Sum of the amount where Courier Company has been charged less than expected"
   ]
  },
  {
   "cell_type": "code",
   "execution_count": 36,
   "id": "6067e0fc",
   "metadata": {},
   "outputs": [
    {
     "data": {
      "text/plain": [
       "348.99999999999994"
      ]
     },
     "execution_count": 36,
     "metadata": {},
     "output_type": "execute_result"
    }
   ],
   "source": [
    "sum_undercharged =Results['Difference Between Expected Charges and Billed Charges (Rs.)'][Results['Difference Between Expected Charges and Billed Charges (Rs.)'] >0].sum()\n",
    "sum_undercharged"
   ]
  },
  {
   "cell_type": "markdown",
   "id": "1648c9f6",
   "metadata": {},
   "source": [
    "#### Count where courier company has been  undercharged :"
   ]
  },
  {
   "cell_type": "code",
   "execution_count": 34,
   "id": "8537de99",
   "metadata": {},
   "outputs": [
    {
     "data": {
      "text/plain": [
       "13"
      ]
     },
     "execution_count": 34,
     "metadata": {},
     "output_type": "execute_result"
    }
   ],
   "source": [
    "undercharged_count = sum(Results['Difference Between Expected Charges and Billed Charges (Rs.)'] > 0)\n",
    "undercharged_count"
   ]
  },
  {
   "cell_type": "markdown",
   "id": "b9967522",
   "metadata": {},
   "source": [
    "#### Sum of the amount where courier company has been charged more than expected:"
   ]
  },
  {
   "cell_type": "code",
   "execution_count": 41,
   "id": "d9ff8243",
   "metadata": {},
   "outputs": [],
   "source": [
    "amount_overcharged =Results['Difference Between Expected Charges and Billed Charges (Rs.)'][Results['Difference Between Expected Charges and Billed Charges (Rs.)'] <0].sum()\n",
    "amount_overcharged = abs(amount_overcharged)"
   ]
  },
  {
   "cell_type": "markdown",
   "id": "bfca5ccf",
   "metadata": {},
   "source": [
    "#### Count where courier company has been overcharged :"
   ]
  },
  {
   "cell_type": "code",
   "execution_count": 29,
   "id": "680e3d3b",
   "metadata": {},
   "outputs": [
    {
     "data": {
      "text/plain": [
       "95"
      ]
     },
     "execution_count": 29,
     "metadata": {},
     "output_type": "execute_result"
    }
   ],
   "source": [
    "overcharged_count = sum(Results['Difference Between Expected Charges and Billed Charges (Rs.)'] < 0)\n",
    "overcharged_count"
   ]
  },
  {
   "cell_type": "markdown",
   "id": "20a10ddd",
   "metadata": {},
   "source": [
    "#### Sum of the amount where courier company has been correctly charged :"
   ]
  },
  {
   "cell_type": "code",
   "execution_count": 27,
   "id": "f79b6af8",
   "metadata": {},
   "outputs": [
    {
     "data": {
      "text/plain": [
       "1253.3"
      ]
     },
     "execution_count": 27,
     "metadata": {},
     "output_type": "execute_result"
    }
   ],
   "source": [
    "correct_charge = Results['Charges Billed by Courier Company (Rs.)'][Results['Difference Between Expected Charges and Billed Charges (Rs.)'] == 0].sum()\n",
    "correct_charge"
   ]
  },
  {
   "cell_type": "markdown",
   "id": "c5d70af4",
   "metadata": {},
   "source": [
    "#### Count where courier company has been correctly charged :"
   ]
  },
  {
   "cell_type": "code",
   "execution_count": 28,
   "id": "75b55a92",
   "metadata": {},
   "outputs": [
    {
     "data": {
      "text/plain": [
       "16"
      ]
     },
     "execution_count": 28,
     "metadata": {},
     "output_type": "execute_result"
    }
   ],
   "source": [
    "correct_charge_count = sum(Results['Difference Between Expected Charges and Billed Charges (Rs.)'] == 0)\n",
    "correct_charge_count"
   ]
  },
  {
   "cell_type": "code",
   "execution_count": null,
   "id": "3af62f38",
   "metadata": {},
   "outputs": [],
   "source": []
  },
  {
   "cell_type": "code",
   "execution_count": 45,
   "id": "5aae815c",
   "metadata": {},
   "outputs": [],
   "source": [
    "amount_file = {\n",
    "    'Total orders where X has been correctly charged' :{'Count': correct_charge_count,\n",
    "                                                       'Amount': correct_charge},\n",
    "    'Total orders where X has been overcharged' :{'Count': overcharged_count,\n",
    "                                                 'Amount': amount_overcharged},\n",
    "    'Total orders where X has been undercharged' :{'Count': undercharged_count,\n",
    "                                                 'Amount': sum_undercharged}    \n",
    "}"
   ]
  },
  {
   "cell_type": "code",
   "execution_count": 47,
   "id": "7049af15",
   "metadata": {},
   "outputs": [],
   "source": [
    "amount_file = pd.DataFrame(amount_file)"
   ]
  },
  {
   "cell_type": "code",
   "execution_count": 48,
   "id": "fb024b48",
   "metadata": {},
   "outputs": [
    {
     "data": {
      "text/html": [
       "<div>\n",
       "<style scoped>\n",
       "    .dataframe tbody tr th:only-of-type {\n",
       "        vertical-align: middle;\n",
       "    }\n",
       "\n",
       "    .dataframe tbody tr th {\n",
       "        vertical-align: top;\n",
       "    }\n",
       "\n",
       "    .dataframe thead th {\n",
       "        text-align: right;\n",
       "    }\n",
       "</style>\n",
       "<table border=\"1\" class=\"dataframe\">\n",
       "  <thead>\n",
       "    <tr style=\"text-align: right;\">\n",
       "      <th></th>\n",
       "      <th>Total orders where X has been correctly charged</th>\n",
       "      <th>Total orders where X has been overcharged</th>\n",
       "      <th>Total orders where X has been undercharged</th>\n",
       "    </tr>\n",
       "  </thead>\n",
       "  <tbody>\n",
       "    <tr>\n",
       "      <th>Count</th>\n",
       "      <td>16.0</td>\n",
       "      <td>95.0</td>\n",
       "      <td>13.0</td>\n",
       "    </tr>\n",
       "    <tr>\n",
       "      <th>Amount</th>\n",
       "      <td>1253.3</td>\n",
       "      <td>5921.1</td>\n",
       "      <td>349.0</td>\n",
       "    </tr>\n",
       "  </tbody>\n",
       "</table>\n",
       "</div>"
      ],
      "text/plain": [
       "        Total orders where X has been correctly charged  \\\n",
       "Count                                              16.0   \n",
       "Amount                                           1253.3   \n",
       "\n",
       "        Total orders where X has been overcharged  \\\n",
       "Count                                        95.0   \n",
       "Amount                                     5921.1   \n",
       "\n",
       "        Total orders where X has been undercharged  \n",
       "Count                                         13.0  \n",
       "Amount                                       349.0  "
      ]
     },
     "execution_count": 48,
     "metadata": {},
     "output_type": "execute_result"
    }
   ],
   "source": [
    "amount_file"
   ]
  },
  {
   "cell_type": "code",
   "execution_count": 49,
   "id": "b7f1ee05",
   "metadata": {},
   "outputs": [],
   "source": [
    "amount_file.to_excel(\"Assignment_final_table2.xlsx\")"
   ]
  },
  {
   "cell_type": "code",
   "execution_count": null,
   "id": "e583d8b9",
   "metadata": {},
   "outputs": [],
   "source": []
  }
 ],
 "metadata": {
  "kernelspec": {
   "display_name": "Python 3 (ipykernel)",
   "language": "python",
   "name": "python3"
  },
  "language_info": {
   "codemirror_mode": {
    "name": "ipython",
    "version": 3
   },
   "file_extension": ".py",
   "mimetype": "text/x-python",
   "name": "python",
   "nbconvert_exporter": "python",
   "pygments_lexer": "ipython3",
   "version": "3.9.12"
  }
 },
 "nbformat": 4,
 "nbformat_minor": 5
}
